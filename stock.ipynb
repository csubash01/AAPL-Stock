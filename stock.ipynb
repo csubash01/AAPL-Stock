{
 "cells": [
  {
   "cell_type": "code",
   "execution_count": 1,
   "id": "ff894578-34df-494d-a2cd-1bcf9bee96b5",
   "metadata": {},
   "outputs": [
    {
     "name": "stdout",
     "output_type": "stream",
     "text": [
      "Requirement already satisfied: numpy in e:\\dev\\data_science\\datascience\\assignments\\stock-sentiment\\venv\\lib\\site-packages (2.3.3)\n",
      "Requirement already satisfied: yfinance in e:\\dev\\data_science\\datascience\\assignments\\stock-sentiment\\venv\\lib\\site-packages (0.2.65)\n",
      "Requirement already satisfied: requests in e:\\dev\\data_science\\datascience\\assignments\\stock-sentiment\\venv\\lib\\site-packages (2.32.5)\n",
      "Requirement already satisfied: feedparser in e:\\dev\\data_science\\datascience\\assignments\\stock-sentiment\\venv\\lib\\site-packages (6.0.12)\n",
      "Requirement already satisfied: beautifulsoup4 in e:\\dev\\data_science\\datascience\\assignments\\stock-sentiment\\venv\\lib\\site-packages (4.13.5)\n",
      "Requirement already satisfied: nltk in e:\\dev\\data_science\\datascience\\assignments\\stock-sentiment\\venv\\lib\\site-packages (3.9.1)\n",
      "Requirement already satisfied: vaderSentiment in e:\\dev\\data_science\\datascience\\assignments\\stock-sentiment\\venv\\lib\\site-packages (3.3.2)\n",
      "Requirement already satisfied: streamlit in e:\\dev\\data_science\\datascience\\assignments\\stock-sentiment\\venv\\lib\\site-packages (1.49.1)\n",
      "Requirement already satisfied: joblib in e:\\dev\\data_science\\datascience\\assignments\\stock-sentiment\\venv\\lib\\site-packages (1.5.2)\n",
      "Requirement already satisfied: matplotlib in e:\\dev\\data_science\\datascience\\assignments\\stock-sentiment\\venv\\lib\\site-packages (3.10.6)\n",
      "Requirement already satisfied: pandas>=1.3.0 in e:\\dev\\data_science\\datascience\\assignments\\stock-sentiment\\venv\\lib\\site-packages (from yfinance) (2.3.2)\n",
      "Requirement already satisfied: multitasking>=0.0.7 in e:\\dev\\data_science\\datascience\\assignments\\stock-sentiment\\venv\\lib\\site-packages (from yfinance) (0.0.12)\n",
      "Requirement already satisfied: platformdirs>=2.0.0 in e:\\dev\\data_science\\datascience\\assignments\\stock-sentiment\\venv\\lib\\site-packages (from yfinance) (4.4.0)\n",
      "Requirement already satisfied: pytz>=2022.5 in e:\\dev\\data_science\\datascience\\assignments\\stock-sentiment\\venv\\lib\\site-packages (from yfinance) (2025.2)\n",
      "Requirement already satisfied: frozendict>=2.3.4 in e:\\dev\\data_science\\datascience\\assignments\\stock-sentiment\\venv\\lib\\site-packages (from yfinance) (2.4.6)\n",
      "Requirement already satisfied: peewee>=3.16.2 in e:\\dev\\data_science\\datascience\\assignments\\stock-sentiment\\venv\\lib\\site-packages (from yfinance) (3.18.2)\n",
      "Requirement already satisfied: curl_cffi>=0.7 in e:\\dev\\data_science\\datascience\\assignments\\stock-sentiment\\venv\\lib\\site-packages (from yfinance) (0.13.0)\n",
      "Requirement already satisfied: protobuf>=3.19.0 in e:\\dev\\data_science\\datascience\\assignments\\stock-sentiment\\venv\\lib\\site-packages (from yfinance) (6.32.1)\n",
      "Requirement already satisfied: websockets>=13.0 in e:\\dev\\data_science\\datascience\\assignments\\stock-sentiment\\venv\\lib\\site-packages (from yfinance) (15.0.1)\n",
      "Requirement already satisfied: charset_normalizer<4,>=2 in e:\\dev\\data_science\\datascience\\assignments\\stock-sentiment\\venv\\lib\\site-packages (from requests) (3.4.3)\n",
      "Requirement already satisfied: idna<4,>=2.5 in e:\\dev\\data_science\\datascience\\assignments\\stock-sentiment\\venv\\lib\\site-packages (from requests) (3.10)\n",
      "Requirement already satisfied: urllib3<3,>=1.21.1 in e:\\dev\\data_science\\datascience\\assignments\\stock-sentiment\\venv\\lib\\site-packages (from requests) (2.5.0)\n",
      "Requirement already satisfied: certifi>=2017.4.17 in e:\\dev\\data_science\\datascience\\assignments\\stock-sentiment\\venv\\lib\\site-packages (from requests) (2025.8.3)\n",
      "Requirement already satisfied: sgmllib3k in e:\\dev\\data_science\\datascience\\assignments\\stock-sentiment\\venv\\lib\\site-packages (from feedparser) (1.0.0)\n",
      "Requirement already satisfied: soupsieve>1.2 in e:\\dev\\data_science\\datascience\\assignments\\stock-sentiment\\venv\\lib\\site-packages (from beautifulsoup4) (2.8)\n",
      "Requirement already satisfied: typing-extensions>=4.0.0 in e:\\dev\\data_science\\datascience\\assignments\\stock-sentiment\\venv\\lib\\site-packages (from beautifulsoup4) (4.15.0)\n",
      "Requirement already satisfied: click in e:\\dev\\data_science\\datascience\\assignments\\stock-sentiment\\venv\\lib\\site-packages (from nltk) (8.2.1)\n",
      "Requirement already satisfied: regex>=2021.8.3 in e:\\dev\\data_science\\datascience\\assignments\\stock-sentiment\\venv\\lib\\site-packages (from nltk) (2025.9.1)\n",
      "Requirement already satisfied: tqdm in e:\\dev\\data_science\\datascience\\assignments\\stock-sentiment\\venv\\lib\\site-packages (from nltk) (4.67.1)\n",
      "Requirement already satisfied: altair!=5.4.0,!=5.4.1,<6,>=4.0 in e:\\dev\\data_science\\datascience\\assignments\\stock-sentiment\\venv\\lib\\site-packages (from streamlit) (5.5.0)\n",
      "Requirement already satisfied: blinker<2,>=1.5.0 in e:\\dev\\data_science\\datascience\\assignments\\stock-sentiment\\venv\\lib\\site-packages (from streamlit) (1.9.0)\n",
      "Requirement already satisfied: cachetools<7,>=4.0 in e:\\dev\\data_science\\datascience\\assignments\\stock-sentiment\\venv\\lib\\site-packages (from streamlit) (6.2.0)\n",
      "Requirement already satisfied: packaging<26,>=20 in e:\\dev\\data_science\\datascience\\assignments\\stock-sentiment\\venv\\lib\\site-packages (from streamlit) (25.0)\n",
      "Requirement already satisfied: pillow<12,>=7.1.0 in e:\\dev\\data_science\\datascience\\assignments\\stock-sentiment\\venv\\lib\\site-packages (from streamlit) (11.3.0)\n",
      "Requirement already satisfied: pyarrow>=7.0 in e:\\dev\\data_science\\datascience\\assignments\\stock-sentiment\\venv\\lib\\site-packages (from streamlit) (21.0.0)\n",
      "Requirement already satisfied: tenacity<10,>=8.1.0 in e:\\dev\\data_science\\datascience\\assignments\\stock-sentiment\\venv\\lib\\site-packages (from streamlit) (9.1.2)\n",
      "Requirement already satisfied: toml<2,>=0.10.1 in e:\\dev\\data_science\\datascience\\assignments\\stock-sentiment\\venv\\lib\\site-packages (from streamlit) (0.10.2)\n",
      "Requirement already satisfied: watchdog<7,>=2.1.5 in e:\\dev\\data_science\\datascience\\assignments\\stock-sentiment\\venv\\lib\\site-packages (from streamlit) (6.0.0)\n",
      "Requirement already satisfied: gitpython!=3.1.19,<4,>=3.0.7 in e:\\dev\\data_science\\datascience\\assignments\\stock-sentiment\\venv\\lib\\site-packages (from streamlit) (3.1.45)\n",
      "Requirement already satisfied: pydeck<1,>=0.8.0b4 in e:\\dev\\data_science\\datascience\\assignments\\stock-sentiment\\venv\\lib\\site-packages (from streamlit) (0.9.1)\n",
      "Requirement already satisfied: tornado!=6.5.0,<7,>=6.0.3 in e:\\dev\\data_science\\datascience\\assignments\\stock-sentiment\\venv\\lib\\site-packages (from streamlit) (6.5.2)\n",
      "Requirement already satisfied: jinja2 in e:\\dev\\data_science\\datascience\\assignments\\stock-sentiment\\venv\\lib\\site-packages (from altair!=5.4.0,!=5.4.1,<6,>=4.0->streamlit) (3.1.6)\n",
      "Requirement already satisfied: jsonschema>=3.0 in e:\\dev\\data_science\\datascience\\assignments\\stock-sentiment\\venv\\lib\\site-packages (from altair!=5.4.0,!=5.4.1,<6,>=4.0->streamlit) (4.25.1)\n",
      "Requirement already satisfied: narwhals>=1.14.2 in e:\\dev\\data_science\\datascience\\assignments\\stock-sentiment\\venv\\lib\\site-packages (from altair!=5.4.0,!=5.4.1,<6,>=4.0->streamlit) (2.5.0)\n",
      "Requirement already satisfied: colorama in e:\\dev\\data_science\\datascience\\assignments\\stock-sentiment\\venv\\lib\\site-packages (from click->nltk) (0.4.6)\n",
      "Requirement already satisfied: gitdb<5,>=4.0.1 in e:\\dev\\data_science\\datascience\\assignments\\stock-sentiment\\venv\\lib\\site-packages (from gitpython!=3.1.19,<4,>=3.0.7->streamlit) (4.0.12)\n",
      "Requirement already satisfied: smmap<6,>=3.0.1 in e:\\dev\\data_science\\datascience\\assignments\\stock-sentiment\\venv\\lib\\site-packages (from gitdb<5,>=4.0.1->gitpython!=3.1.19,<4,>=3.0.7->streamlit) (5.0.2)\n",
      "Requirement already satisfied: python-dateutil>=2.8.2 in e:\\dev\\data_science\\datascience\\assignments\\stock-sentiment\\venv\\lib\\site-packages (from pandas>=1.3.0->yfinance) (2.9.0.post0)\n",
      "Requirement already satisfied: tzdata>=2022.7 in e:\\dev\\data_science\\datascience\\assignments\\stock-sentiment\\venv\\lib\\site-packages (from pandas>=1.3.0->yfinance) (2025.2)\n",
      "Requirement already satisfied: contourpy>=1.0.1 in e:\\dev\\data_science\\datascience\\assignments\\stock-sentiment\\venv\\lib\\site-packages (from matplotlib) (1.3.3)\n",
      "Requirement already satisfied: cycler>=0.10 in e:\\dev\\data_science\\datascience\\assignments\\stock-sentiment\\venv\\lib\\site-packages (from matplotlib) (0.12.1)\n",
      "Requirement already satisfied: fonttools>=4.22.0 in e:\\dev\\data_science\\datascience\\assignments\\stock-sentiment\\venv\\lib\\site-packages (from matplotlib) (4.59.2)\n",
      "Requirement already satisfied: kiwisolver>=1.3.1 in e:\\dev\\data_science\\datascience\\assignments\\stock-sentiment\\venv\\lib\\site-packages (from matplotlib) (1.4.9)\n",
      "Requirement already satisfied: pyparsing>=2.3.1 in e:\\dev\\data_science\\datascience\\assignments\\stock-sentiment\\venv\\lib\\site-packages (from matplotlib) (3.2.4)\n",
      "Requirement already satisfied: cffi>=1.12.0 in e:\\dev\\data_science\\datascience\\assignments\\stock-sentiment\\venv\\lib\\site-packages (from curl_cffi>=0.7->yfinance) (2.0.0)\n",
      "Requirement already satisfied: pycparser in e:\\dev\\data_science\\datascience\\assignments\\stock-sentiment\\venv\\lib\\site-packages (from cffi>=1.12.0->curl_cffi>=0.7->yfinance) (2.23)\n",
      "Requirement already satisfied: MarkupSafe>=2.0 in e:\\dev\\data_science\\datascience\\assignments\\stock-sentiment\\venv\\lib\\site-packages (from jinja2->altair!=5.4.0,!=5.4.1,<6,>=4.0->streamlit) (3.0.2)\n",
      "Requirement already satisfied: attrs>=22.2.0 in e:\\dev\\data_science\\datascience\\assignments\\stock-sentiment\\venv\\lib\\site-packages (from jsonschema>=3.0->altair!=5.4.0,!=5.4.1,<6,>=4.0->streamlit) (25.3.0)\n",
      "Requirement already satisfied: jsonschema-specifications>=2023.03.6 in e:\\dev\\data_science\\datascience\\assignments\\stock-sentiment\\venv\\lib\\site-packages (from jsonschema>=3.0->altair!=5.4.0,!=5.4.1,<6,>=4.0->streamlit) (2025.9.1)\n",
      "Requirement already satisfied: referencing>=0.28.4 in e:\\dev\\data_science\\datascience\\assignments\\stock-sentiment\\venv\\lib\\site-packages (from jsonschema>=3.0->altair!=5.4.0,!=5.4.1,<6,>=4.0->streamlit) (0.36.2)\n",
      "Requirement already satisfied: rpds-py>=0.7.1 in e:\\dev\\data_science\\datascience\\assignments\\stock-sentiment\\venv\\lib\\site-packages (from jsonschema>=3.0->altair!=5.4.0,!=5.4.1,<6,>=4.0->streamlit) (0.27.1)\n",
      "Requirement already satisfied: six>=1.5 in e:\\dev\\data_science\\datascience\\assignments\\stock-sentiment\\venv\\lib\\site-packages (from python-dateutil>=2.8.2->pandas>=1.3.0->yfinance) (1.17.0)\n",
      "Note: you may need to restart the kernel to use updated packages.\n"
     ]
    }
   ],
   "source": [
    "pip install numpy yfinance requests feedparser beautifulsoup4 nltk vaderSentiment streamlit joblib matplotlib"
   ]
  },
  {
   "cell_type": "code",
   "execution_count": 20,
   "id": "c73f9d5c-957e-4d28-85b9-b660b9612d07",
   "metadata": {},
   "outputs": [],
   "source": [
    "import pandas as pd\n",
    "import numpy as np\n",
    "import re\n",
    "import nltk\n",
    "from nltk.corpus import stopwords\n",
    "from vaderSentiment.vaderSentiment import SentimentIntensityAnalyzer\n",
    "from sklearn.model_selection import train_test_split\n",
    "from sklearn.ensemble import RandomForestClassifier\n",
    "from sklearn.metrics import classification_report, accuracy_score\n",
    "import matplotlib.pyplot as plt"
   ]
  },
  {
   "cell_type": "code",
   "execution_count": 3,
   "id": "a274c845-9bbf-4fa3-82a4-4da8ee971a14",
   "metadata": {},
   "outputs": [
    {
     "name": "stdout",
     "output_type": "stream",
     "text": [
      "Requirement already satisfied: scikit-learn in e:\\dev\\data_science\\datascience\\assignments\\stock-sentiment\\venv\\lib\\site-packages (1.7.2)\n",
      "Requirement already satisfied: numpy>=1.22.0 in e:\\dev\\data_science\\datascience\\assignments\\stock-sentiment\\venv\\lib\\site-packages (from scikit-learn) (2.3.3)\n",
      "Requirement already satisfied: scipy>=1.8.0 in e:\\dev\\data_science\\datascience\\assignments\\stock-sentiment\\venv\\lib\\site-packages (from scikit-learn) (1.16.2)\n",
      "Requirement already satisfied: joblib>=1.2.0 in e:\\dev\\data_science\\datascience\\assignments\\stock-sentiment\\venv\\lib\\site-packages (from scikit-learn) (1.5.2)\n",
      "Requirement already satisfied: threadpoolctl>=3.1.0 in e:\\dev\\data_science\\datascience\\assignments\\stock-sentiment\\venv\\lib\\site-packages (from scikit-learn) (3.6.0)\n"
     ]
    }
   ],
   "source": [
    "!pip install scikit-learn"
   ]
  },
  {
   "cell_type": "markdown",
   "id": "676941f9-d280-4451-b15e-187253684a4d",
   "metadata": {},
   "source": [
    "## Download/ Fetch Price"
   ]
  },
  {
   "cell_type": "code",
   "execution_count": 21,
   "id": "f31dcfc7-202b-4289-96b0-adac1d57b306",
   "metadata": {},
   "outputs": [],
   "source": [
    "import yfinance as yf\n",
    "import pandas as pd\n",
    "\n",
    "def download_price(ticker, start='2018-01-01', end=None):\n",
    "    df = yf.download(ticker, start=start, end=end, progress=False, auto_adjust=False)\n",
    "    df.index = pd.to_datetime(df.index).tz_localize(None)\n",
    "    return df[['Open','High','Low','Close','Adj Close','Volume']]\n"
   ]
  },
  {
   "cell_type": "code",
   "execution_count": null,
   "id": "e8b2df0e-35cf-488d-9555-b54df90386a7",
   "metadata": {},
   "outputs": [],
   "source": [
    "# test\n",
    "df = download_price(\"AAPL\", start=\"2020-01-01\")\n",
    "print(df.head())\n"
   ]
  },
  {
   "cell_type": "code",
   "execution_count": null,
   "id": "cea6e3e9-d091-4e76-a247-9203d9d75643",
   "metadata": {},
   "outputs": [],
   "source": [
    "df.head()"
   ]
  },
  {
   "cell_type": "code",
   "execution_count": 7,
   "id": "ee7f069a-fa3d-4a04-937e-c6883320ad77",
   "metadata": {},
   "outputs": [],
   "source": [
    "df.to_csv(r\"E:\\DEV\\Data_science\\DataScience\\Assignments\\stock-sentiment\\data\\AAPL_price.csv\")"
   ]
  },
  {
   "cell_type": "code",
   "execution_count": 8,
   "id": "dbed91bf-b835-4c5e-b89a-1e99c48b4018",
   "metadata": {},
   "outputs": [
    {
     "name": "stdout",
     "output_type": "stream",
     "text": [
      "Requirement already satisfied: python-dateutil in e:\\dev\\data_science\\datascience\\assignments\\stock-sentiment\\venv\\lib\\site-packages (2.9.0.post0)\n",
      "Requirement already satisfied: six>=1.5 in e:\\dev\\data_science\\datascience\\assignments\\stock-sentiment\\venv\\lib\\site-packages (from python-dateutil) (1.17.0)\n"
     ]
    }
   ],
   "source": [
    "!pip install python-dateutil"
   ]
  },
  {
   "cell_type": "markdown",
   "id": "0ebc7963-cc2b-4bc5-9b2e-2b73390607ac",
   "metadata": {},
   "source": [
    "## Google News RSS (no API key)"
   ]
  },
  {
   "cell_type": "code",
   "execution_count": 9,
   "id": "b70e464e-4524-43c1-828f-b7fc78b3eb16",
   "metadata": {},
   "outputs": [
    {
     "name": "stdout",
     "output_type": "stream",
     "text": [
      "(100, 6)\n"
     ]
    }
   ],
   "source": [
    "# save as rss_fetch.p\n",
    "import feedparser\n",
    "import pandas as pd\n",
    "from dateutil import parser as dateparser\n",
    "import time\n",
    "\n",
    "def fetch_google_news_rss(query, max_items=200, country='US', lang='en'):\n",
    "    q = query.replace(' ', '+')\n",
    "    rss_url = f\"https://news.google.com/rss/search?q={q}&hl={lang}&gl={country}&ceid={country}:{lang}\"\n",
    "    feed = feedparser.parse(rss_url)\n",
    "    items = []\n",
    "    for entry in feed.entries[:max_items]:\n",
    "        published = entry.get('published') or entry.get('updated') or entry.get('pubDate')\n",
    "        published_iso = dateparser.parse(published).isoformat() if published else None\n",
    "        items.append({\n",
    "            \"publishedAt\": published_iso,\n",
    "            \"date\": pd.to_datetime(published_iso, errors='coerce').date() if published_iso else None,\n",
    "            \"source\": entry.get('source', {}).get('title') or entry.get('source'),\n",
    "            \"title\": entry.get('title'),\n",
    "            \"summary\": entry.get('summary'),\n",
    "            \"url\": entry.get('link')\n",
    "        })\n",
    "    df = pd.DataFrame(items)\n",
    "    return df\n",
    "\n",
    "\n",
    "if __name__ == \"__main__\":\n",
    "    df = fetch_google_news_rss('AAPL OR Apple stock', max_items=200)\n",
    "    df.to_csv(r\"E:\\DEV\\Data_science\\DataScience\\Assignments\\stock-sentiment\\data\\AAPL_news_rss.csv\", index=False)\n",
    "    print(df.shape)\n"
   ]
  },
  {
   "cell_type": "markdown",
   "id": "47b1a011-8f39-4715-be3a-873d4d22c944",
   "metadata": {},
   "source": [
    "## Clean Headlines"
   ]
  },
  {
   "cell_type": "code",
   "execution_count": 10,
   "id": "0736ca4a-a3f2-4bb4-99b2-7381dc07c521",
   "metadata": {},
   "outputs": [
    {
     "name": "stderr",
     "output_type": "stream",
     "text": [
      "[nltk_data] Downloading package stopwords to\n",
      "[nltk_data]     C:\\Users\\Hardik\\AppData\\Roaming\\nltk_data...\n",
      "[nltk_data]   Package stopwords is already up-to-date!\n"
     ]
    }
   ],
   "source": [
    "import re\n",
    "import nltk\n",
    "nltk.download('stopwords')\n",
    "from nltk.corpus import stopwords"
   ]
  },
  {
   "cell_type": "code",
   "execution_count": 11,
   "id": "8f9ebd74-fb35-4353-ba24-dfe619da0524",
   "metadata": {},
   "outputs": [
    {
     "name": "stderr",
     "output_type": "stream",
     "text": [
      "[nltk_data] Downloading package stopwords to\n",
      "[nltk_data]     C:\\Users\\Hardik\\AppData\\Roaming\\nltk_data...\n",
      "[nltk_data]   Package stopwords is already up-to-date!\n"
     ]
    }
   ],
   "source": [
    "# Download NLTK stopwords\n",
    "nltk.download(\"stopwords\")\n",
    "stop_words = set(stopwords.words(\"english\"))"
   ]
  },
  {
   "cell_type": "code",
   "execution_count": 12,
   "id": "350f5fde-c421-4bcf-b763-bd29adf6d186",
   "metadata": {},
   "outputs": [],
   "source": [
    "# ========== 2. Load CSV files ==========\n",
    "price = pd.read_csv(r\"E:\\DEV\\Data_science\\DataScience\\Assignments\\stock-sentiment\\data\\AAPL_price.csv\",skiprows=2)\n",
    "news = pd.read_csv(r\"E:\\DEV\\Data_science\\DataScience\\Assignments\\stock-sentiment\\data\\AAPL_news_rss.csv\")"
   ]
  },
  {
   "cell_type": "code",
   "execution_count": 13,
   "id": "5a8cebf6-2d99-4236-8522-97079af8531c",
   "metadata": {},
   "outputs": [
    {
     "name": "stdout",
     "output_type": "stream",
     "text": [
      "Price columns: Index(['Date', 'Unnamed: 1', 'Unnamed: 2', 'Unnamed: 3', 'Unnamed: 4',\n",
      "       'Unnamed: 5', 'Unnamed: 6'],\n",
      "      dtype='object')\n",
      "News columns: Index(['publishedAt', 'date', 'source', 'title', 'summary', 'url'], dtype='object')\n"
     ]
    }
   ],
   "source": [
    "print(\"Price columns:\", price.columns)\n",
    "print(\"News columns:\", news.columns)"
   ]
  },
  {
   "cell_type": "code",
   "execution_count": 14,
   "id": "07cafdee-a89e-4dab-87ed-6b22372231de",
   "metadata": {},
   "outputs": [
    {
     "name": "stderr",
     "output_type": "stream",
     "text": [
      "C:\\Users\\Hardik\\AppData\\Local\\Temp\\ipykernel_12400\\3174982097.py:3: UserWarning: Could not infer format, so each element will be parsed individually, falling back to `dateutil`. To ensure parsing is consistent and as-expected, please specify a format.\n",
      "  news['publishedAt'] = pd.to_datetime(news['publishedAt'])\n"
     ]
    }
   ],
   "source": [
    "# Ensure datetime\n",
    "price['Date'] = pd.to_datetime(price['Date'])\n",
    "news['publishedAt'] = pd.to_datetime(news['publishedAt'])\n",
    "news['date'] = news['publishedAt'].dt.date\n",
    "price['date'] = price['Date'].dt.date"
   ]
  },
  {
   "cell_type": "code",
   "execution_count": 15,
   "id": "44ced32a-c1d0-46dc-bc86-aba4bf5334d0",
   "metadata": {},
   "outputs": [
    {
     "name": "stdout",
     "output_type": "stream",
     "text": [
      "        Date  Unnamed: 1  Unnamed: 2  Unnamed: 3  Unnamed: 4  Unnamed: 5  \\\n",
      "0 2020-01-02   74.059998   75.150002   73.797501   75.087502   72.538513   \n",
      "1 2020-01-03   74.287498   75.144997   74.125000   74.357498   71.833290   \n",
      "2 2020-01-06   73.447502   74.989998   73.187500   74.949997   72.405678   \n",
      "3 2020-01-07   74.959999   75.224998   74.370003   74.597504   72.065155   \n",
      "4 2020-01-08   74.290001   76.110001   74.290001   75.797501   73.224434   \n",
      "\n",
      "   Unnamed: 6        date  \n",
      "0   135480400  2020-01-02  \n",
      "1   146322800  2020-01-03  \n",
      "2   118387200  2020-01-06  \n",
      "3   108872000  2020-01-07  \n",
      "4   132079200  2020-01-08  \n",
      "RangeIndex(start=0, stop=1433, step=1)\n"
     ]
    }
   ],
   "source": [
    "print(price.head())\n",
    "print(price.index)\n"
   ]
  },
  {
   "cell_type": "code",
   "execution_count": 16,
   "id": "2943e926-7c0e-4c78-9fd6-7a276eefc398",
   "metadata": {},
   "outputs": [],
   "source": [
    "# Clean column names\n",
    "price.columns = price.columns.str.strip()\n",
    "news.columns = news.columns.str.strip()"
   ]
  },
  {
   "cell_type": "code",
   "execution_count": 17,
   "id": "2169bc91-6c10-4fdf-948d-8bea40492d34",
   "metadata": {},
   "outputs": [
    {
     "ename": "NameError",
     "evalue": "name 'daily_sent' is not defined",
     "output_type": "error",
     "traceback": [
      "\u001b[31m---------------------------------------------------------------------------\u001b[39m",
      "\u001b[31mNameError\u001b[39m                                 Traceback (most recent call last)",
      "\u001b[36mCell\u001b[39m\u001b[36m \u001b[39m\u001b[32mIn[17]\u001b[39m\u001b[32m, line 1\u001b[39m\n\u001b[32m----> \u001b[39m\u001b[32m1\u001b[39m price = price.merge(\u001b[43mdaily_sent\u001b[49m, left_index=\u001b[38;5;28;01mTrue\u001b[39;00m, right_index=\u001b[38;5;28;01mTrue\u001b[39;00m, how=\u001b[33m'\u001b[39m\u001b[33mleft\u001b[39m\u001b[33m'\u001b[39m)\n\u001b[32m      2\u001b[39m price[[\u001b[33m'\u001b[39m\u001b[33msent_mean\u001b[39m\u001b[33m'\u001b[39m,\u001b[33m'\u001b[39m\u001b[33msent_count\u001b[39m\u001b[33m'\u001b[39m]] = price[[\u001b[33m'\u001b[39m\u001b[33msent_mean\u001b[39m\u001b[33m'\u001b[39m,\u001b[33m'\u001b[39m\u001b[33msent_count\u001b[39m\u001b[33m'\u001b[39m]].fillna(\u001b[32m0\u001b[39m)\n\u001b[32m      4\u001b[39m price[\u001b[33m'\u001b[39m\u001b[33msent_next\u001b[39m\u001b[33m'\u001b[39m] = price[\u001b[33m'\u001b[39m\u001b[33msent_mean\u001b[39m\u001b[33m'\u001b[39m].shift(\u001b[32m1\u001b[39m)   \u001b[38;5;66;03m# use yesterday's aggregated news to predict today\u001b[39;00m\n",
      "\u001b[31mNameError\u001b[39m: name 'daily_sent' is not defined"
     ]
    }
   ],
   "source": [
    "price = price.merge(daily_sent, left_index=True, right_index=True, how='left')\n",
    "price[['sent_mean','sent_count']] = price[['sent_mean','sent_count']].fillna(0)\n",
    "\n",
    "price['sent_next'] = price['sent_mean'].shift(1)   # use yesterday's aggregated news to predict today"
   ]
  },
  {
   "cell_type": "markdown",
   "id": "e4ec54a9-da27-4f34-bed7-9b88443f9b75",
   "metadata": {},
   "source": [
    "## clean news headlines"
   ]
  },
  {
   "cell_type": "code",
   "execution_count": null,
   "id": "84a1119b-5c7e-41e5-bd29-59fd72baf83c",
   "metadata": {},
   "outputs": [],
   "source": [
    "# ========== 3. Clean news headlines ==========\n",
    "def clean_text(text):\n",
    "    text = str(text).lower()\n",
    "    text = re.sub(r\"[^a-z\\s]\", \"\", text)\n",
    "    tokens = [w for w in text.split() if w not in stop_words]\n",
    "    return \" \".join(tokens)\n",
    "\n",
    "news['clean'] = news['title'].apply(clean_text)"
   ]
  },
  {
   "cell_type": "code",
   "execution_count": null,
   "id": "fabe996d-f9d7-4780-9712-3493a80160a9",
   "metadata": {},
   "outputs": [],
   "source": [
    "# ========== 4. Sentiment analysis ==========\n",
    "an = SentimentIntensityAnalyzer()\n",
    "news['compound'] = news['clean'].apply(lambda t: an.polarity_scores(t)['compound'])"
   ]
  },
  {
   "cell_type": "code",
   "execution_count": null,
   "id": "26b1f8b0-b698-4adf-83ed-d87ed6cdebed",
   "metadata": {},
   "outputs": [],
   "source": [
    "# Daily aggregation\n",
    "daily_sent = news.groupby('date').agg(\n",
    "    sent_mean=('compound','mean'),\n",
    "    sent_count=('compound','count')\n",
    ").reset_index()"
   ]
  },
  {
   "cell_type": "code",
   "execution_count": null,
   "id": "71a814e4-6295-47b4-9727-2aae8fb11efa",
   "metadata": {},
   "outputs": [],
   "source": [
    "# ========== 5. Merge with stock prices ==========\n",
    "df = pd.merge(price, daily_sent, on='date', how='left')"
   ]
  },
  {
   "cell_type": "code",
   "execution_count": null,
   "id": "020366c6-53c3-49a9-8f14-c65df3942593",
   "metadata": {},
   "outputs": [],
   "source": [
    "# Fill missing sentiment with 0\n",
    "df['sent_mean'] = df['sent_mean'].fillna(0)\n",
    "df['sent_count'] = df['sent_count'].fillna(0)"
   ]
  },
  {
   "cell_type": "code",
   "execution_count": null,
   "id": "af6c3941-f439-4408-a363-2806f0b9b9a6",
   "metadata": {},
   "outputs": [],
   "source": [
    "# ========== 6. Feature Engineering ==========\n",
    "df['sent_next'] = df['sent_mean'].shift(1)  # lag feature\n",
    "df['Return'] = df['Close'].pct_change()"
   ]
  },
  {
   "cell_type": "code",
   "execution_count": null,
   "id": "bd4f7bc4-1c09-4e19-9d83-3973f92b1e70",
   "metadata": {},
   "outputs": [],
   "source": [
    "print(df.columns.tolist())\n",
    "print(df.head())"
   ]
  },
  {
   "cell_type": "code",
   "execution_count": null,
   "id": "2be1915e-9539-4d0b-bcf2-4e883a846246",
   "metadata": {},
   "outputs": [],
   "source": [
    "df = df.rename(columns={\n",
    "    \"Unnamed: 1\": \"Open\",\n",
    "    \"Unnamed: 2\": \"High\",\n",
    "    \"Unnamed: 3\": \"Low\",\n",
    "    \"Unnamed: 4\": \"Close\",\n",
    "    \"Unnamed: 5\": \"Adj Close\",\n",
    "    \"Unnamed: 6\": \"Volume\"\n",
    "})\n"
   ]
  },
  {
   "cell_type": "code",
   "execution_count": null,
   "id": "9de69851-6efd-464b-b98e-470cd6b8bdcd",
   "metadata": {},
   "outputs": [],
   "source": [
    "print(df.columns)"
   ]
  },
  {
   "cell_type": "code",
   "execution_count": null,
   "id": "7d25d31d-8131-4df8-a097-1eebbb280d51",
   "metadata": {},
   "outputs": [],
   "source": [
    "# Target: 1 if price goes up tomorrow, else 0\n",
    "df['target'] = (df['Close'].shift(-1) > df['Close']).astype(int)\n"
   ]
  },
  {
   "cell_type": "code",
   "execution_count": null,
   "id": "05cbc26b-866a-425e-9642-1eeda1a2c430",
   "metadata": {},
   "outputs": [],
   "source": [
    "an = SentimentIntensityAnalyzer()\n",
    "news['compound'] = news['clean'].apply(lambda t: an.polarity_scores(t)['compound'])"
   ]
  },
  {
   "cell_type": "code",
   "execution_count": null,
   "id": "a4984e4f-3cc8-4b0b-967f-aba68e84b827",
   "metadata": {},
   "outputs": [],
   "source": [
    "# Drop NaNs\n",
    "df = df.dropna()"
   ]
  },
  {
   "cell_type": "code",
   "execution_count": null,
   "id": "a0d46927-5fb9-40d3-bb2b-edda246730e6",
   "metadata": {},
   "outputs": [],
   "source": [
    "# ========== 7. Prepare ML data ==========\n",
    "features = ['sent_mean', 'sent_count', 'sent_next', 'Return', 'Volume']\n",
    "X = df[features]\n",
    "y = df['target']"
   ]
  },
  {
   "cell_type": "code",
   "execution_count": null,
   "id": "428f3873-9aac-4eff-b382-b3b20feaf9d4",
   "metadata": {},
   "outputs": [],
   "source": [
    "X_train, X_test, y_train, y_test = train_test_split(\n",
    "    X, y, test_size=0.2, shuffle=False\n",
    ")"
   ]
  },
  {
   "cell_type": "code",
   "execution_count": null,
   "id": "1513b525-4f27-489a-9f43-76587de88a8f",
   "metadata": {},
   "outputs": [],
   "source": [
    "# ========== 8. Train model ==========\n",
    "model = RandomForestClassifier(n_estimators=100, random_state=42)\n",
    "model.fit(X_train, y_train)"
   ]
  },
  {
   "cell_type": "code",
   "execution_count": null,
   "id": "0dddd65b-179d-4f42-965e-2f482974a679",
   "metadata": {},
   "outputs": [],
   "source": [
    "# Predictions\n",
    "y_pred = model.predict(X_test)"
   ]
  },
  {
   "cell_type": "code",
   "execution_count": null,
   "id": "fc249e2f-42fc-4ac6-be78-6df476d4cf1d",
   "metadata": {},
   "outputs": [],
   "source": [
    "# ========== 9. Evaluate ==========\n",
    "print(\"Accuracy:\", accuracy_score(y_test, y_pred))\n",
    "print(classification_report(y_test, y_pred))"
   ]
  },
  {
   "cell_type": "code",
   "execution_count": null,
   "id": "71b73432-8060-4069-ab52-18a0a52b8eb5",
   "metadata": {},
   "outputs": [],
   "source": [
    "# ========== 10. Plot actual vs predicted ==========\n",
    "plt.figure(figsize=(10,5))\n",
    "plt.plot(df['Date'][-len(y_test):], y_test.values, label='Actual')\n",
    "plt.plot(df['Date'][-len(y_test):], y_pred, label='Predicted', alpha=0.7)\n",
    "plt.legend()\n",
    "plt.title(\"Stock Movement Prediction\")\n",
    "plt.show()"
   ]
  },
  {
   "cell_type": "code",
   "execution_count": 19,
   "id": "5f05a3a5-0747-4afb-88d1-978f31d71645",
   "metadata": {},
   "outputs": [
    {
     "ename": "NameError",
     "evalue": "name 'model' is not defined",
     "output_type": "error",
     "traceback": [
      "\u001b[31m---------------------------------------------------------------------------\u001b[39m",
      "\u001b[31mNameError\u001b[39m                                 Traceback (most recent call last)",
      "\u001b[36mCell\u001b[39m\u001b[36m \u001b[39m\u001b[32mIn[19]\u001b[39m\u001b[32m, line 6\u001b[39m\n\u001b[32m      3\u001b[39m \u001b[38;5;28;01mimport\u001b[39;00m\u001b[38;5;250m \u001b[39m\u001b[34;01mjoblib\u001b[39;00m\n\u001b[32m      5\u001b[39m features = [\u001b[33m\"\u001b[39m\u001b[33mreturn\u001b[39m\u001b[33m\"\u001b[39m, \u001b[33m\"\u001b[39m\u001b[33msentiment_mean\u001b[39m\u001b[33m\"\u001b[39m, \u001b[33m\"\u001b[39m\u001b[33msentiment_count\u001b[39m\u001b[33m\"\u001b[39m, \u001b[33m\"\u001b[39m\u001b[33msentiment_next\u001b[39m\u001b[33m\"\u001b[39m]  \u001b[38;5;66;03m# adjust to your actual names\u001b[39;00m\n\u001b[32m----> \u001b[39m\u001b[32m6\u001b[39m joblib.dump((\u001b[43mmodel\u001b[49m, features), \u001b[33m\"\u001b[39m\u001b[33mmodel.pkl\u001b[39m\u001b[33m\"\u001b[39m)\n\u001b[32m      8\u001b[39m \u001b[38;5;28mprint\u001b[39m(\u001b[33m\"\u001b[39m\u001b[33m✅ Model saved as model.pkl\u001b[39m\u001b[33m\"\u001b[39m)\n",
      "\u001b[31mNameError\u001b[39m: name 'model' is not defined"
     ]
    }
   ],
   "source": [
    "# Save model\n",
    "import joblib\n",
    "import joblib\n",
    "\n",
    "features = [\"return\", \"sentiment_mean\", \"sentiment_count\", \"sentiment_next\"]  # adjust to your actual names\n",
    "joblib.dump((model, features), \"model.pkl\")\n",
    "\n",
    "print(\"✅ Model saved as model.pkl\")"
   ]
  },
  {
   "cell_type": "code",
   "execution_count": null,
   "id": "6ab33e54-a8bf-4722-b182-6229c68f70f5",
   "metadata": {},
   "outputs": [],
   "source": [
    "pip install joblib"
   ]
  }
 ],
 "metadata": {
  "kernelspec": {
   "display_name": "Python 3 (ipykernel)",
   "language": "python",
   "name": "python3"
  },
  "language_info": {
   "codemirror_mode": {
    "name": "ipython",
    "version": 3
   },
   "file_extension": ".py",
   "mimetype": "text/x-python",
   "name": "python",
   "nbconvert_exporter": "python",
   "pygments_lexer": "ipython3",
   "version": "3.13.7"
  }
 },
 "nbformat": 4,
 "nbformat_minor": 5
}
