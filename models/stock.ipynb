{
 "cells": [
  {
   "cell_type": "code",
   "execution_count": 1,
   "id": "ff894578-34df-494d-a2cd-1bcf9bee96b5",
   "metadata": {},
   "outputs": [
    {
     "name": "stdout",
     "output_type": "stream",
     "text": [
      "Requirement already satisfied: numpy in e:\\dev\\data_science\\datascience\\assignments\\stock-sentiment\\venv\\lib\\site-packages (2.3.3)\n",
      "Requirement already satisfied: yfinance in e:\\dev\\data_science\\datascience\\assignments\\stock-sentiment\\venv\\lib\\site-packages (0.2.65)\n",
      "Requirement already satisfied: requests in e:\\dev\\data_science\\datascience\\assignments\\stock-sentiment\\venv\\lib\\site-packages (2.32.5)\n",
      "Requirement already satisfied: feedparser in e:\\dev\\data_science\\datascience\\assignments\\stock-sentiment\\venv\\lib\\site-packages (6.0.12)\n",
      "Requirement already satisfied: beautifulsoup4 in e:\\dev\\data_science\\datascience\\assignments\\stock-sentiment\\venv\\lib\\site-packages (4.13.5)\n",
      "Requirement already satisfied: nltk in e:\\dev\\data_science\\datascience\\assignments\\stock-sentiment\\venv\\lib\\site-packages (3.9.1)\n",
      "Requirement already satisfied: vaderSentiment in e:\\dev\\data_science\\datascience\\assignments\\stock-sentiment\\venv\\lib\\site-packages (3.3.2)\n",
      "Requirement already satisfied: streamlit in e:\\dev\\data_science\\datascience\\assignments\\stock-sentiment\\venv\\lib\\site-packages (1.49.1)\n",
      "Requirement already satisfied: joblib in e:\\dev\\data_science\\datascience\\assignments\\stock-sentiment\\venv\\lib\\site-packages (1.5.2)\n",
      "Requirement already satisfied: matplotlib in e:\\dev\\data_science\\datascience\\assignments\\stock-sentiment\\venv\\lib\\site-packages (3.10.6)\n",
      "Requirement already satisfied: pandas>=1.3.0 in e:\\dev\\data_science\\datascience\\assignments\\stock-sentiment\\venv\\lib\\site-packages (from yfinance) (2.3.2)\n",
      "Requirement already satisfied: multitasking>=0.0.7 in e:\\dev\\data_science\\datascience\\assignments\\stock-sentiment\\venv\\lib\\site-packages (from yfinance) (0.0.12)\n",
      "Requirement already satisfied: platformdirs>=2.0.0 in e:\\dev\\data_science\\datascience\\assignments\\stock-sentiment\\venv\\lib\\site-packages (from yfinance) (4.4.0)\n",
      "Requirement already satisfied: pytz>=2022.5 in e:\\dev\\data_science\\datascience\\assignments\\stock-sentiment\\venv\\lib\\site-packages (from yfinance) (2025.2)\n",
      "Requirement already satisfied: frozendict>=2.3.4 in e:\\dev\\data_science\\datascience\\assignments\\stock-sentiment\\venv\\lib\\site-packages (from yfinance) (2.4.6)\n",
      "Requirement already satisfied: peewee>=3.16.2 in e:\\dev\\data_science\\datascience\\assignments\\stock-sentiment\\venv\\lib\\site-packages (from yfinance) (3.18.2)\n",
      "Requirement already satisfied: curl_cffi>=0.7 in e:\\dev\\data_science\\datascience\\assignments\\stock-sentiment\\venv\\lib\\site-packages (from yfinance) (0.13.0)\n",
      "Requirement already satisfied: protobuf>=3.19.0 in e:\\dev\\data_science\\datascience\\assignments\\stock-sentiment\\venv\\lib\\site-packages (from yfinance) (6.32.1)\n",
      "Requirement already satisfied: websockets>=13.0 in e:\\dev\\data_science\\datascience\\assignments\\stock-sentiment\\venv\\lib\\site-packages (from yfinance) (15.0.1)\n",
      "Requirement already satisfied: charset_normalizer<4,>=2 in e:\\dev\\data_science\\datascience\\assignments\\stock-sentiment\\venv\\lib\\site-packages (from requests) (3.4.3)\n",
      "Requirement already satisfied: idna<4,>=2.5 in e:\\dev\\data_science\\datascience\\assignments\\stock-sentiment\\venv\\lib\\site-packages (from requests) (3.10)\n",
      "Requirement already satisfied: urllib3<3,>=1.21.1 in e:\\dev\\data_science\\datascience\\assignments\\stock-sentiment\\venv\\lib\\site-packages (from requests) (2.5.0)\n",
      "Requirement already satisfied: certifi>=2017.4.17 in e:\\dev\\data_science\\datascience\\assignments\\stock-sentiment\\venv\\lib\\site-packages (from requests) (2025.8.3)\n",
      "Requirement already satisfied: sgmllib3k in e:\\dev\\data_science\\datascience\\assignments\\stock-sentiment\\venv\\lib\\site-packages (from feedparser) (1.0.0)\n",
      "Requirement already satisfied: soupsieve>1.2 in e:\\dev\\data_science\\datascience\\assignments\\stock-sentiment\\venv\\lib\\site-packages (from beautifulsoup4) (2.8)\n",
      "Requirement already satisfied: typing-extensions>=4.0.0 in e:\\dev\\data_science\\datascience\\assignments\\stock-sentiment\\venv\\lib\\site-packages (from beautifulsoup4) (4.15.0)\n",
      "Requirement already satisfied: click in e:\\dev\\data_science\\datascience\\assignments\\stock-sentiment\\venv\\lib\\site-packages (from nltk) (8.2.1)\n",
      "Requirement already satisfied: regex>=2021.8.3 in e:\\dev\\data_science\\datascience\\assignments\\stock-sentiment\\venv\\lib\\site-packages (from nltk) (2025.9.1)\n",
      "Requirement already satisfied: tqdm in e:\\dev\\data_science\\datascience\\assignments\\stock-sentiment\\venv\\lib\\site-packages (from nltk) (4.67.1)\n",
      "Requirement already satisfied: altair!=5.4.0,!=5.4.1,<6,>=4.0 in e:\\dev\\data_science\\datascience\\assignments\\stock-sentiment\\venv\\lib\\site-packages (from streamlit) (5.5.0)\n",
      "Requirement already satisfied: blinker<2,>=1.5.0 in e:\\dev\\data_science\\datascience\\assignments\\stock-sentiment\\venv\\lib\\site-packages (from streamlit) (1.9.0)\n",
      "Requirement already satisfied: cachetools<7,>=4.0 in e:\\dev\\data_science\\datascience\\assignments\\stock-sentiment\\venv\\lib\\site-packages (from streamlit) (6.2.0)\n",
      "Requirement already satisfied: packaging<26,>=20 in e:\\dev\\data_science\\datascience\\assignments\\stock-sentiment\\venv\\lib\\site-packages (from streamlit) (25.0)\n",
      "Requirement already satisfied: pillow<12,>=7.1.0 in e:\\dev\\data_science\\datascience\\assignments\\stock-sentiment\\venv\\lib\\site-packages (from streamlit) (11.3.0)\n",
      "Requirement already satisfied: pyarrow>=7.0 in e:\\dev\\data_science\\datascience\\assignments\\stock-sentiment\\venv\\lib\\site-packages (from streamlit) (21.0.0)\n",
      "Requirement already satisfied: tenacity<10,>=8.1.0 in e:\\dev\\data_science\\datascience\\assignments\\stock-sentiment\\venv\\lib\\site-packages (from streamlit) (9.1.2)\n",
      "Requirement already satisfied: toml<2,>=0.10.1 in e:\\dev\\data_science\\datascience\\assignments\\stock-sentiment\\venv\\lib\\site-packages (from streamlit) (0.10.2)\n",
      "Requirement already satisfied: watchdog<7,>=2.1.5 in e:\\dev\\data_science\\datascience\\assignments\\stock-sentiment\\venv\\lib\\site-packages (from streamlit) (6.0.0)\n",
      "Requirement already satisfied: gitpython!=3.1.19,<4,>=3.0.7 in e:\\dev\\data_science\\datascience\\assignments\\stock-sentiment\\venv\\lib\\site-packages (from streamlit) (3.1.45)\n",
      "Requirement already satisfied: pydeck<1,>=0.8.0b4 in e:\\dev\\data_science\\datascience\\assignments\\stock-sentiment\\venv\\lib\\site-packages (from streamlit) (0.9.1)\n",
      "Requirement already satisfied: tornado!=6.5.0,<7,>=6.0.3 in e:\\dev\\data_science\\datascience\\assignments\\stock-sentiment\\venv\\lib\\site-packages (from streamlit) (6.5.2)\n",
      "Requirement already satisfied: jinja2 in e:\\dev\\data_science\\datascience\\assignments\\stock-sentiment\\venv\\lib\\site-packages (from altair!=5.4.0,!=5.4.1,<6,>=4.0->streamlit) (3.1.6)\n",
      "Requirement already satisfied: jsonschema>=3.0 in e:\\dev\\data_science\\datascience\\assignments\\stock-sentiment\\venv\\lib\\site-packages (from altair!=5.4.0,!=5.4.1,<6,>=4.0->streamlit) (4.25.1)\n",
      "Requirement already satisfied: narwhals>=1.14.2 in e:\\dev\\data_science\\datascience\\assignments\\stock-sentiment\\venv\\lib\\site-packages (from altair!=5.4.0,!=5.4.1,<6,>=4.0->streamlit) (2.5.0)\n",
      "Requirement already satisfied: colorama in e:\\dev\\data_science\\datascience\\assignments\\stock-sentiment\\venv\\lib\\site-packages (from click->nltk) (0.4.6)\n",
      "Requirement already satisfied: gitdb<5,>=4.0.1 in e:\\dev\\data_science\\datascience\\assignments\\stock-sentiment\\venv\\lib\\site-packages (from gitpython!=3.1.19,<4,>=3.0.7->streamlit) (4.0.12)\n",
      "Requirement already satisfied: smmap<6,>=3.0.1 in e:\\dev\\data_science\\datascience\\assignments\\stock-sentiment\\venv\\lib\\site-packages (from gitdb<5,>=4.0.1->gitpython!=3.1.19,<4,>=3.0.7->streamlit) (5.0.2)\n",
      "Requirement already satisfied: python-dateutil>=2.8.2 in e:\\dev\\data_science\\datascience\\assignments\\stock-sentiment\\venv\\lib\\site-packages (from pandas>=1.3.0->yfinance) (2.9.0.post0)\n",
      "Requirement already satisfied: tzdata>=2022.7 in e:\\dev\\data_science\\datascience\\assignments\\stock-sentiment\\venv\\lib\\site-packages (from pandas>=1.3.0->yfinance) (2025.2)\n",
      "Requirement already satisfied: contourpy>=1.0.1 in e:\\dev\\data_science\\datascience\\assignments\\stock-sentiment\\venv\\lib\\site-packages (from matplotlib) (1.3.3)\n",
      "Requirement already satisfied: cycler>=0.10 in e:\\dev\\data_science\\datascience\\assignments\\stock-sentiment\\venv\\lib\\site-packages (from matplotlib) (0.12.1)\n",
      "Requirement already satisfied: fonttools>=4.22.0 in e:\\dev\\data_science\\datascience\\assignments\\stock-sentiment\\venv\\lib\\site-packages (from matplotlib) (4.59.2)\n",
      "Requirement already satisfied: kiwisolver>=1.3.1 in e:\\dev\\data_science\\datascience\\assignments\\stock-sentiment\\venv\\lib\\site-packages (from matplotlib) (1.4.9)\n",
      "Requirement already satisfied: pyparsing>=2.3.1 in e:\\dev\\data_science\\datascience\\assignments\\stock-sentiment\\venv\\lib\\site-packages (from matplotlib) (3.2.4)\n",
      "Requirement already satisfied: cffi>=1.12.0 in e:\\dev\\data_science\\datascience\\assignments\\stock-sentiment\\venv\\lib\\site-packages (from curl_cffi>=0.7->yfinance) (2.0.0)\n",
      "Requirement already satisfied: pycparser in e:\\dev\\data_science\\datascience\\assignments\\stock-sentiment\\venv\\lib\\site-packages (from cffi>=1.12.0->curl_cffi>=0.7->yfinance) (2.23)\n",
      "Requirement already satisfied: MarkupSafe>=2.0 in e:\\dev\\data_science\\datascience\\assignments\\stock-sentiment\\venv\\lib\\site-packages (from jinja2->altair!=5.4.0,!=5.4.1,<6,>=4.0->streamlit) (3.0.2)\n",
      "Requirement already satisfied: attrs>=22.2.0 in e:\\dev\\data_science\\datascience\\assignments\\stock-sentiment\\venv\\lib\\site-packages (from jsonschema>=3.0->altair!=5.4.0,!=5.4.1,<6,>=4.0->streamlit) (25.3.0)\n",
      "Requirement already satisfied: jsonschema-specifications>=2023.03.6 in e:\\dev\\data_science\\datascience\\assignments\\stock-sentiment\\venv\\lib\\site-packages (from jsonschema>=3.0->altair!=5.4.0,!=5.4.1,<6,>=4.0->streamlit) (2025.9.1)\n",
      "Requirement already satisfied: referencing>=0.28.4 in e:\\dev\\data_science\\datascience\\assignments\\stock-sentiment\\venv\\lib\\site-packages (from jsonschema>=3.0->altair!=5.4.0,!=5.4.1,<6,>=4.0->streamlit) (0.36.2)\n",
      "Requirement already satisfied: rpds-py>=0.7.1 in e:\\dev\\data_science\\datascience\\assignments\\stock-sentiment\\venv\\lib\\site-packages (from jsonschema>=3.0->altair!=5.4.0,!=5.4.1,<6,>=4.0->streamlit) (0.27.1)\n",
      "Requirement already satisfied: six>=1.5 in e:\\dev\\data_science\\datascience\\assignments\\stock-sentiment\\venv\\lib\\site-packages (from python-dateutil>=2.8.2->pandas>=1.3.0->yfinance) (1.17.0)\n",
      "Note: you may need to restart the kernel to use updated packages.\n"
     ]
    }
   ],
   "source": [
    "pip install numpy yfinance requests feedparser beautifulsoup4 nltk vaderSentiment streamlit joblib matplotlib"
   ]
  },
  {
   "cell_type": "code",
   "execution_count": null,
   "id": "6ab33e54-a8bf-4722-b182-6229c68f70f5",
   "metadata": {},
   "outputs": [],
   "source": [
    "pip install joblib"
   ]
  },
  {
   "cell_type": "code",
   "execution_count": 45,
   "id": "b745947f-f8c5-4368-962b-2111b5c52198",
   "metadata": {},
   "outputs": [],
   "source": [
    "import pandas as pd\n",
    "import numpy as np\n",
    "from vaderSentiment.vaderSentiment import SentimentIntensityAnalyzer\n",
    "from sklearn.model_selection import train_test_split\n",
    "from sklearn.ensemble import RandomForestClassifier\n",
    "from sklearn.metrics import accuracy_score, f1_score\n",
    "import joblib\n"
   ]
  },
  {
   "cell_type": "code",
   "execution_count": 77,
   "id": "7d884f15-7bce-4668-8596-c101d99a5bfd",
   "metadata": {},
   "outputs": [],
   "source": [
    "# Load price data\n",
    "price = pd.read_csv(r\"E:\\DEV\\Data_science\\DataScience\\Assignments\\stock-sentiment\\data\\AAPL_price.csv\",encoding=\"latin1\",parse_dates=[\"date\"])\n",
    "\n",
    "# Load RSS news\n",
    "news = pd.read_csv(r\"E:\\DEV\\Data_science\\DataScience\\Assignments\\stock-sentiment\\data\\AAPL_news_rss.csv\",  encoding=\"latin1\",\n",
    "    parse_dates=[\"date\"])\n"
   ]
  },
  {
   "cell_type": "code",
   "execution_count": 78,
   "id": "c138f9f1-d403-42ae-8c4f-dc5f4f7cf8c3",
   "metadata": {},
   "outputs": [
    {
     "name": "stdout",
     "output_type": "stream",
     "text": [
      "   Unnamed: 0                publishedAt       date  \\\n",
      "0           0  2025-09-15T20:25:00+00:00 2025-09-15   \n",
      "1           1  2025-09-15T16:27:00+00:00 2025-09-15   \n",
      "2           2  2025-09-15T10:55:37+00:00 2025-09-15   \n",
      "3           3  2025-09-13T12:43:00+00:00 2025-09-13   \n",
      "4           4  2025-09-12T10:50:36+00:00 2025-09-12   \n",
      "\n",
      "                      source  \\\n",
      "0  Investor's Business Daily   \n",
      "1                   Barron's   \n",
      "2              Yahoo Finance   \n",
      "3            The Motley Fool   \n",
      "4              Yahoo Finance   \n",
      "\n",
      "                                               title  \\\n",
      "0  Apple Stock Rises Amid Strong iPhone 17 Preord...   \n",
      "1  Apple Stock Gains. What Preorders Say About iP...   \n",
      "2  Apple (AAPL) Valuation: Examining the Numbers ...   \n",
      "3  Best Stock to Buy Now: Alphabet or Apple? - Th...   \n",
      "4  Rosenblatt Lifts PT on Apple (AAPL) Stock - Ya...   \n",
      "\n",
      "                                             summary  \\\n",
      "0  <a href=\"https://news.google.com/rss/articles/...   \n",
      "1  <a href=\"https://news.google.com/rss/articles/...   \n",
      "2  <a href=\"https://news.google.com/rss/articles/...   \n",
      "3  <a href=\"https://news.google.com/rss/articles/...   \n",
      "4  <a href=\"https://news.google.com/rss/articles/...   \n",
      "\n",
      "                                                 url  \n",
      "0  https://news.google.com/rss/articles/CBMihgFBV...  \n",
      "1  https://news.google.com/rss/articles/CBMihAFBV...  \n",
      "2  https://news.google.com/rss/articles/CBMijAFBV...  \n",
      "3  https://news.google.com/rss/articles/CBMiigFBV...  \n",
      "4  https://news.google.com/rss/articles/CBMiggFBV...  \n",
      "                 publishedAt       date                     source  \\\n",
      "0  2025-09-15T20:25:00+00:00 2025-09-15  Investor's Business Daily   \n",
      "1  2025-09-15T16:27:00+00:00 2025-09-15                   Barron's   \n",
      "2  2025-09-15T10:55:37+00:00 2025-09-15              Yahoo Finance   \n",
      "3  2025-09-13T12:43:00+00:00 2025-09-13            The Motley Fool   \n",
      "4  2025-09-12T10:50:36+00:00 2025-09-12              Yahoo Finance   \n",
      "\n",
      "                                               title  \\\n",
      "0  Apple Stock Rises Amid Strong iPhone 17 Preord...   \n",
      "1  Apple Stock Gains. What Preorders Say About iP...   \n",
      "2  Apple (AAPL) Valuation: Examining the Numbers ...   \n",
      "3  Best Stock to Buy Now: Alphabet or Apple? - Th...   \n",
      "4  Rosenblatt Lifts PT on Apple (AAPL) Stock - Ya...   \n",
      "\n",
      "                                             summary  \\\n",
      "0  <a href=\"https://news.google.com/rss/articles/...   \n",
      "1  <a href=\"https://news.google.com/rss/articles/...   \n",
      "2  <a href=\"https://news.google.com/rss/articles/...   \n",
      "3  <a href=\"https://news.google.com/rss/articles/...   \n",
      "4  <a href=\"https://news.google.com/rss/articles/...   \n",
      "\n",
      "                                                 url  \n",
      "0  https://news.google.com/rss/articles/CBMihgFBV...  \n",
      "1  https://news.google.com/rss/articles/CBMihAFBV...  \n",
      "2  https://news.google.com/rss/articles/CBMijAFBV...  \n",
      "3  https://news.google.com/rss/articles/CBMiigFBV...  \n",
      "4  https://news.google.com/rss/articles/CBMiggFBV...  \n"
     ]
    }
   ],
   "source": [
    "print(price.head())\n",
    "print(news.head())"
   ]
  },
  {
   "cell_type": "code",
   "execution_count": 79,
   "id": "904aa19c-a847-4801-ade4-e6f76af8de08",
   "metadata": {},
   "outputs": [
    {
     "data": {
      "text/plain": [
       "Index(['Unnamed: 0', 'publishedAt', 'date', 'source', 'title', 'summary',\n",
       "       'url'],\n",
       "      dtype='object')"
      ]
     },
     "execution_count": 79,
     "metadata": {},
     "output_type": "execute_result"
    }
   ],
   "source": [
    "price.columns"
   ]
  },
  {
   "cell_type": "code",
   "execution_count": 80,
   "id": "5d1a853a-b0dc-4895-ac1b-c3dd041676bd",
   "metadata": {},
   "outputs": [
    {
     "data": {
      "text/plain": [
       "Index(['publishedAt', 'date', 'source', 'title', 'summary', 'url'], dtype='object')"
      ]
     },
     "execution_count": 80,
     "metadata": {},
     "output_type": "execute_result"
    }
   ],
   "source": [
    "news.columns"
   ]
  },
  {
   "cell_type": "code",
   "execution_count": 81,
   "id": "d97197a4-1b5f-40c5-a59b-08118477fad6",
   "metadata": {},
   "outputs": [],
   "source": [
    "analyzer = SentimentIntensityAnalyzer()\n",
    "\n",
    "# Compute compound score from \"title\"\n",
    "news[\"compound\"] = news[\"title\"].astype(str).apply(\n",
    "    lambda x: analyzer.polarity_scores(x)[\"compound\"]\n",
    ")\n",
    "\n",
    "# Aggregate daily sentiment\n",
    "daily_sent = news.groupby(\"date\").agg(\n",
    "    sent_mean=(\"compound\", \"mean\"),\n",
    "    sent_count=(\"compound\", \"count\")\n",
    ").reset_index()\n"
   ]
  },
  {
   "cell_type": "code",
   "execution_count": 82,
   "id": "8dd44706-7fb4-4c91-92ab-56416db77f4a",
   "metadata": {},
   "outputs": [
    {
     "data": {
      "text/html": [
       "<div>\n",
       "<style scoped>\n",
       "    .dataframe tbody tr th:only-of-type {\n",
       "        vertical-align: middle;\n",
       "    }\n",
       "\n",
       "    .dataframe tbody tr th {\n",
       "        vertical-align: top;\n",
       "    }\n",
       "\n",
       "    .dataframe thead th {\n",
       "        text-align: right;\n",
       "    }\n",
       "</style>\n",
       "<table border=\"1\" class=\"dataframe\">\n",
       "  <thead>\n",
       "    <tr style=\"text-align: right;\">\n",
       "      <th></th>\n",
       "      <th>Unnamed: 0</th>\n",
       "      <th>publishedAt</th>\n",
       "      <th>date</th>\n",
       "      <th>source</th>\n",
       "      <th>title</th>\n",
       "      <th>summary</th>\n",
       "      <th>url</th>\n",
       "      <th>sent_mean</th>\n",
       "      <th>sent_count</th>\n",
       "      <th>sent_next</th>\n",
       "    </tr>\n",
       "  </thead>\n",
       "  <tbody>\n",
       "    <tr>\n",
       "      <th>1</th>\n",
       "      <td>1</td>\n",
       "      <td>2025-09-15T16:27:00+00:00</td>\n",
       "      <td>2025-09-15</td>\n",
       "      <td>Barron's</td>\n",
       "      <td>Apple Stock Gains. What Preorders Say About iP...</td>\n",
       "      <td>&lt;a href=\"https://news.google.com/rss/articles/...</td>\n",
       "      <td>https://news.google.com/rss/articles/CBMihAFBV...</td>\n",
       "      <td>0.208188</td>\n",
       "      <td>40</td>\n",
       "      <td>0.208188</td>\n",
       "    </tr>\n",
       "    <tr>\n",
       "      <th>2</th>\n",
       "      <td>2</td>\n",
       "      <td>2025-09-15T10:55:37+00:00</td>\n",
       "      <td>2025-09-15</td>\n",
       "      <td>Yahoo Finance</td>\n",
       "      <td>Apple (AAPL) Valuation: Examining the Numbers ...</td>\n",
       "      <td>&lt;a href=\"https://news.google.com/rss/articles/...</td>\n",
       "      <td>https://news.google.com/rss/articles/CBMijAFBV...</td>\n",
       "      <td>0.208188</td>\n",
       "      <td>40</td>\n",
       "      <td>0.208188</td>\n",
       "    </tr>\n",
       "    <tr>\n",
       "      <th>3</th>\n",
       "      <td>3</td>\n",
       "      <td>2025-09-13T12:43:00+00:00</td>\n",
       "      <td>2025-09-13</td>\n",
       "      <td>The Motley Fool</td>\n",
       "      <td>Best Stock to Buy Now: Alphabet or Apple? - Th...</td>\n",
       "      <td>&lt;a href=\"https://news.google.com/rss/articles/...</td>\n",
       "      <td>https://news.google.com/rss/articles/CBMiigFBV...</td>\n",
       "      <td>0.161117</td>\n",
       "      <td>12</td>\n",
       "      <td>0.208188</td>\n",
       "    </tr>\n",
       "    <tr>\n",
       "      <th>4</th>\n",
       "      <td>4</td>\n",
       "      <td>2025-09-12T10:50:36+00:00</td>\n",
       "      <td>2025-09-12</td>\n",
       "      <td>Yahoo Finance</td>\n",
       "      <td>Rosenblatt Lifts PT on Apple (AAPL) Stock - Ya...</td>\n",
       "      <td>&lt;a href=\"https://news.google.com/rss/articles/...</td>\n",
       "      <td>https://news.google.com/rss/articles/CBMiggFBV...</td>\n",
       "      <td>0.108830</td>\n",
       "      <td>10</td>\n",
       "      <td>0.161117</td>\n",
       "    </tr>\n",
       "    <tr>\n",
       "      <th>5</th>\n",
       "      <td>5</td>\n",
       "      <td>2025-09-12T14:07:42+00:00</td>\n",
       "      <td>2025-09-12</td>\n",
       "      <td>Yahoo Finance</td>\n",
       "      <td>Apple Stock Downgraded After iPhone 17 Reveals...</td>\n",
       "      <td>&lt;a href=\"https://news.google.com/rss/articles/...</td>\n",
       "      <td>https://news.google.com/rss/articles/CBMihgFBV...</td>\n",
       "      <td>0.108830</td>\n",
       "      <td>10</td>\n",
       "      <td>0.108830</td>\n",
       "    </tr>\n",
       "  </tbody>\n",
       "</table>\n",
       "</div>"
      ],
      "text/plain": [
       "   Unnamed: 0                publishedAt       date           source  \\\n",
       "1           1  2025-09-15T16:27:00+00:00 2025-09-15         Barron's   \n",
       "2           2  2025-09-15T10:55:37+00:00 2025-09-15    Yahoo Finance   \n",
       "3           3  2025-09-13T12:43:00+00:00 2025-09-13  The Motley Fool   \n",
       "4           4  2025-09-12T10:50:36+00:00 2025-09-12    Yahoo Finance   \n",
       "5           5  2025-09-12T14:07:42+00:00 2025-09-12    Yahoo Finance   \n",
       "\n",
       "                                               title  \\\n",
       "1  Apple Stock Gains. What Preorders Say About iP...   \n",
       "2  Apple (AAPL) Valuation: Examining the Numbers ...   \n",
       "3  Best Stock to Buy Now: Alphabet or Apple? - Th...   \n",
       "4  Rosenblatt Lifts PT on Apple (AAPL) Stock - Ya...   \n",
       "5  Apple Stock Downgraded After iPhone 17 Reveals...   \n",
       "\n",
       "                                             summary  \\\n",
       "1  <a href=\"https://news.google.com/rss/articles/...   \n",
       "2  <a href=\"https://news.google.com/rss/articles/...   \n",
       "3  <a href=\"https://news.google.com/rss/articles/...   \n",
       "4  <a href=\"https://news.google.com/rss/articles/...   \n",
       "5  <a href=\"https://news.google.com/rss/articles/...   \n",
       "\n",
       "                                                 url  sent_mean  sent_count  \\\n",
       "1  https://news.google.com/rss/articles/CBMihAFBV...   0.208188          40   \n",
       "2  https://news.google.com/rss/articles/CBMijAFBV...   0.208188          40   \n",
       "3  https://news.google.com/rss/articles/CBMiigFBV...   0.161117          12   \n",
       "4  https://news.google.com/rss/articles/CBMiggFBV...   0.108830          10   \n",
       "5  https://news.google.com/rss/articles/CBMihgFBV...   0.108830          10   \n",
       "\n",
       "   sent_next  \n",
       "1   0.208188  \n",
       "2   0.208188  \n",
       "3   0.208188  \n",
       "4   0.161117  \n",
       "5   0.108830  "
      ]
     },
     "execution_count": 82,
     "metadata": {},
     "output_type": "execute_result"
    }
   ],
   "source": [
    "# Merge by \"date\"\n",
    "price = price.merge(daily_sent, on=\"date\", how=\"left\")\n",
    "\n",
    "# Fill missing sentiment\n",
    "price[[\"sent_mean\", \"sent_count\"]] = price[[\"sent_mean\", \"sent_count\"]].fillna(0)\n",
    "\n",
    "# Add lagged sentiment\n",
    "price[\"sent_next\"] = price[\"sent_mean\"].shift(1)\n",
    "\n",
    "# Drop rows with NA\n",
    "price = price.dropna()\n",
    "price.head()"
   ]
  },
  {
   "cell_type": "code",
   "execution_count": 84,
   "id": "459768ab-b9b6-43d2-83b0-8264b789dec4",
   "metadata": {},
   "outputs": [],
   "source": [
    "features = [\"sent_mean\", \"sent_count\", \"sent_next\"]\n",
    "X = price[features]\n",
    "\n",
    "# Target: 1 if next day sentiment stronger, else 0\n",
    "y = np.where(price[\"sent_mean\"].shift(-1) > price[\"sent_mean\"], 1, 0)\n",
    "\n",
    "# Align sizes\n",
    "X, y = X.iloc[:-1], y[:-1]"
   ]
  },
  {
   "cell_type": "code",
   "execution_count": 85,
   "id": "c960da57-ff1c-4dcc-a9ef-2e87cae1bd2a",
   "metadata": {},
   "outputs": [
    {
     "name": "stdout",
     "output_type": "stream",
     "text": [
      "Accuracy: 0.8\n",
      "F1 Score: 0.6666666666666666\n"
     ]
    }
   ],
   "source": [
    "X_train, X_test, y_train, y_test = train_test_split(\n",
    "    X, y, test_size=0.2, shuffle=False\n",
    ")\n",
    "\n",
    "model = RandomForestClassifier(n_estimators=100, random_state=42)\n",
    "model.fit(X_train, y_train)\n",
    "\n",
    "y_pred = model.predict(X_test)\n",
    "print(\"Accuracy:\", accuracy_score(y_test, y_pred))\n",
    "print(\"F1 Score:\", f1_score(y_test, y_pred))"
   ]
  },
  {
   "cell_type": "code",
   "execution_count": 87,
   "id": "7c84949a-9dbc-41d2-8378-890e76ce84c1",
   "metadata": {},
   "outputs": [
    {
     "name": "stdout",
     "output_type": "stream",
     "text": [
      "✅ Model saved as models/model.pkl with features: ['sent_mean', 'sent_count', 'sent_next']\n"
     ]
    }
   ],
   "source": [
    "joblib.dump((model, features), \"model.pkl\")\n",
    "print(\"✅ Model saved as models/model.pkl with features:\", features)"
   ]
  }
 ],
 "metadata": {
  "kernelspec": {
   "display_name": "Python 3 (ipykernel)",
   "language": "python",
   "name": "python3"
  },
  "language_info": {
   "codemirror_mode": {
    "name": "ipython",
    "version": 3
   },
   "file_extension": ".py",
   "mimetype": "text/x-python",
   "name": "python",
   "nbconvert_exporter": "python",
   "pygments_lexer": "ipython3",
   "version": "3.13.7"
  }
 },
 "nbformat": 4,
 "nbformat_minor": 5
}
